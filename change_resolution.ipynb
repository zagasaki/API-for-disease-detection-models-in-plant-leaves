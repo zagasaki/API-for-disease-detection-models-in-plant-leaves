{
 "cells": [
  {
   "cell_type": "code",
   "execution_count": 15,
   "id": "1f594e27",
   "metadata": {},
   "outputs": [
    {
     "name": "stdout",
     "output_type": "stream",
     "text": [
      "Berhasil memproses dan menyimpan: asdad.jpg\n",
      "Berhasil memproses dan menyimpan: dcddc.jpg\n",
      "Berhasil memproses dan menyimpan: dfdsf.jpg\n",
      "Berhasil memproses dan menyimpan: dsfsd.jpg\n",
      "Berhasil memproses dan menyimpan: sdcsdc.jpg\n"
     ]
    }
   ],
   "source": [
    "from PIL import Image  \n",
    "import os  \n",
    "  \n",
    "# Tentukan path ke folder dataset asli dan folder tujuan  \n",
    "dataset_path = \"val_hr\"  # Ganti dengan path folder input Anda  \n",
    "output_path = \"custom_dataset/val_LR\"   # Ganti dengan path folder output Anda  \n",
    "  \n",
    "# Buat folder tujuan jika belum ada  \n",
    "if not os.path.exists(output_path):  \n",
    "    os.makedirs(output_path)  \n",
    "  \n",
    "# Loop melalui semua file di folder dataset  \n",
    "for filename in os.listdir(dataset_path):  \n",
    "    if filename.endswith((\".jpg\", \".jpeg\", \".png\")):  # Sesuaikan dengan ekstensi file gambar Anda  \n",
    "        try:  \n",
    "            # Buka gambar menggunakan PIL  \n",
    "            img_path = os.path.join(dataset_path, filename)  \n",
    "            img = Image.open(img_path)  \n",
    "  \n",
    "            # Resize gambar (misalnya menjadi 256x256 pixel)  \n",
    "            resized_img = img.resize((195, 195))  # Ganti dengan resolusi yang diinginkan  \n",
    "  \n",
    "            # Simpan gambar yang sudah di-resize ke folder tujuan  \n",
    "            output_filename = os.path.join(output_path, filename)  \n",
    "            resized_img.save(output_filename)  \n",
    "  \n",
    "            print(f\"Berhasil memproses dan menyimpan: {filename}\")  \n",
    "  \n",
    "        except Exception as e:  \n",
    "            print(f\"Gagal memproses {filename}: {e}\")  \n"
   ]
  },
  {
   "cell_type": "code",
   "execution_count": 5,
   "id": "e29172c1",
   "metadata": {},
   "outputs": [
    {
     "name": "stdout",
     "output_type": "stream",
     "text": [
      "Berhasil memproses dan menyimpan: 06699.jpg\n",
      "Berhasil memproses dan menyimpan: 07780.jpg\n",
      "Berhasil memproses dan menyimpan: asdad.jpg\n",
      "Berhasil memproses dan menyimpan: mobil-double.jpg\n",
      "Berhasil memproses dan menyimpan: mobil-single.jpg\n"
     ]
    }
   ],
   "source": [
    "#4x lipat\n",
    "from PIL import Image    \n",
    "import os    \n",
    "    \n",
    "# Tentukan path ke folder dataset asli dan folder tujuan    \n",
    "dataset_path = \"custom_dataset/val_LR\"  # Ganti dengan path folder input Anda    \n",
    "output_path = \"custom_dataset/val_HR\"   # Ganti dengan path folder output Anda    \n",
    "    \n",
    "# Buat folder tujuan jika belum ada    \n",
    "if not os.path.exists(output_path):    \n",
    "    os.makedirs(output_path)    \n",
    "    \n",
    "# Loop melalui semua file di folder dataset    \n",
    "for filename in os.listdir(dataset_path):    \n",
    "    if filename.endswith((\".jpg\", \".jpeg\", \".png\")):  # Sesuaikan dengan ekstensi file gambar Anda    \n",
    "        try:    \n",
    "            # Buka gambar menggunakan PIL    \n",
    "            img_path = os.path.join(dataset_path, filename)    \n",
    "            img = Image.open(img_path)    \n",
    "    \n",
    "            # Dapatkan ukuran asli gambar    \n",
    "            original_size = img.size    \n",
    "            new_size = (original_size[0] * 4, original_size[1] * 4)  # Mengalikan ukuran dengan 4    \n",
    "    \n",
    "            # Resize gambar    \n",
    "            resized_img = img.resize(new_size)    \n",
    "    \n",
    "            # Simpan gambar yang sudah di-resize ke folder tujuan    \n",
    "            output_filename = os.path.join(output_path, filename)    \n",
    "            resized_img.save(output_filename)    \n",
    "    \n",
    "            print(f\"Berhasil memproses dan menyimpan: {filename}\")    \n",
    "    \n",
    "        except Exception as e:    \n",
    "            print(f\"Gagal memproses {filename}: {e}\")    \n"
   ]
  }
 ],
 "metadata": {
  "kernelspec": {
   "display_name": "Python 3",
   "language": "python",
   "name": "python3"
  },
  "language_info": {
   "codemirror_mode": {
    "name": "ipython",
    "version": 3
   },
   "file_extension": ".py",
   "mimetype": "text/x-python",
   "name": "python",
   "nbconvert_exporter": "python",
   "pygments_lexer": "ipython3",
   "version": "3.6.5"
  }
 },
 "nbformat": 4,
 "nbformat_minor": 5
}
